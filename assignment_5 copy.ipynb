{
 "cells": [
  {
   "cell_type": "markdown",
   "id": "dd21efe9",
   "metadata": {},
   "source": [
    "# Assignment 5\n",
    "### Do all four questions."
   ]
  },
  {
   "cell_type": "markdown",
   "id": "1ee9b4e8",
   "metadata": {},
   "source": [
    "**1.** Let's review some basic matrix multiplication. When you have an $M \\times N$ matrix $A$ with $M$ rows and $N$ columns, \n",
    "$$\n",
    "A= \\left[ \\begin{array}{cccc} a_{11} & a_{12} & ... & a_{1N} \\\\\n",
    "a_{21} & a_{22} & ... & a_{2N} \\\\\n",
    "\\vdots & \\vdots & ... & \\vdots \\\\\n",
    "a_{M1} & a_{M2} & ... & a_{MN} \n",
    "\\end{array} \\right],\n",
    "$$\n",
    "and you right-multiply it by a vector\n",
    "$$\n",
    "x = \\left[ \\begin{array}{c} x_1 \\\\ x_2 \\\\ \\vdots \\\\ x_N \n",
    "\\end{array} \\right],\n",
    "$$\n",
    "you get\n",
    "$$\n",
    "Ax = \\left[ \\begin{array}{c} \\sum_{i=1}^N a_{1i} x_i \\\\ \\sum_{i=1}^N a_{2i} x_i \\\\ \\vdots \\\\ \\sum_{i=1}^N a_{Mi} x_i \n",
    "\\end{array} \\right].\n",
    "$$\n",
    "This is just \"matrix row times column vector\" element-by-element, stacking the results into a new vector.\n",
    "\n",
    "For this to make sense, $N$ must be the same for the matrix and the vector, but $M$ can be different from $N$. \n",
    "\n",
    "Let's play with some NumPy to see this. First we'll define a matrix $A$:"
   ]
  },
  {
   "cell_type": "code",
   "execution_count": 2,
   "id": "33df3579",
   "metadata": {},
   "outputs": [
    {
     "data": {
      "text/plain": [
       "array([[1, 2, 3],\n",
       "       [4, 5, 6],\n",
       "       [7, 8, 9]])"
      ]
     },
     "execution_count": 2,
     "metadata": {},
     "output_type": "execute_result"
    }
   ],
   "source": [
    "import numpy as np\n",
    "\n",
    "A = np.array([ [1,2,3],\n",
    "              [4,5,6],\n",
    "              [7,8,9]])\n",
    "A"
   ]
  },
  {
   "cell_type": "markdown",
   "id": "94b1b3ac",
   "metadata": {},
   "source": [
    "a. Multiply $A$ times each of the following vectors using the @ operator. Explain which part of the $A$ matrix gets selected and explain why, using the definition of matrix multiplication. "
   ]
  },
  {
   "cell_type": "code",
   "execution_count": 3,
   "id": "5b6148d2",
   "metadata": {},
   "outputs": [],
   "source": [
    "e_1 = np.array([1,0,0])\n",
    "e_2 = np.array([0,1,0])\n",
    "e_3 = np.array([0,0,1])"
   ]
  },
  {
   "cell_type": "code",
   "execution_count": null,
   "id": "97830a1b",
   "metadata": {},
   "outputs": [
    {
     "name": "stdout",
     "output_type": "stream",
     "text": [
      "A @ e_1 =\n",
      " [1 4 7]\n",
      "A @ e_2 =\n",
      " [2 5 8]\n",
      "A @ e_3 =\n",
      " [3 6 9]\n"
     ]
    }
   ],
   "source": [
    "# Q1.a(answer): compute A @ e_j for j = 1,2,3 and compare to A's columns\n",
    "\n",
    "r1 = A @ e_1\n",
    "r2 = A @ e_2\n",
    "r3 = A @ e_3\n",
    "\n",
    "print(\"A @ e_1 =\\n\", r1)\n",
    "print(\"A @ e_2 =\\n\", r2)\n",
    "print(\"A @ e_3 =\\n\", r3)"
   ]
  },
  {
   "cell_type": "markdown",
   "id": "d6e1959a",
   "metadata": {},
   "source": [
    "When you multiply the matrix A by one of the standard vectors, you’re basically isolating one column of A. Each basis vector has a 1 in one position and 0 everywhere else, so the multiplication keeps only the values from the corresponding column. So if A times e₁ gives you the first column of A, A times e₂ gives you the second column, and A times e₃ gives you the third column. This shows how matrix-vector multiplication can be viewed as taking weighted combinations of the columns of A, with the weights coming from the entries of the vector you multiply by."
   ]
  },
  {
   "cell_type": "markdown",
   "id": "72a4704e",
   "metadata": {},
   "source": [
    "b. Now multiply $A$ times $u = (1,1,1)$. Explain the logic of the result with the definition of matrix multiplication."
   ]
  },
  {
   "cell_type": "code",
   "execution_count": 6,
   "id": "5bf73f9b",
   "metadata": {},
   "outputs": [],
   "source": [
    "u = np.ones(3)"
   ]
  },
  {
   "cell_type": "code",
   "execution_count": null,
   "id": "58fb8751",
   "metadata": {},
   "outputs": [
    {
     "name": "stdout",
     "output_type": "stream",
     "text": [
      "u = [1 1 1]\n",
      "A @ u =\n",
      " [ 6 15 24]\n"
     ]
    }
   ],
   "source": [
    "# Q1.b(answer): compute A @ u\n",
    "u = np.array([1, 1, 1])  # all-ones vector (length 3 for a 3x3 A)\n",
    "y = A @ u\n",
    "print(\"u =\", u)\n",
    "print(\"A @ u =\\n\", y)\n"
   ]
  },
  {
   "cell_type": "markdown",
   "id": "2c7deff7",
   "metadata": {},
   "source": [
    "Multiplying A by the all-ones vector adds up each row of A. The result is a new vector where each entry is the sum of one row of the matrix. That’s because the ones pick up every entry in a row without changing their values. So A @ u is simply the vector of row sums of A."
   ]
  },
  {
   "cell_type": "markdown",
   "id": "dde75eab",
   "metadata": {},
   "source": [
    "c. Whenever a matrix has 1's on the diagonal and zeros everywhere else, we call it an **identity matrix**. What happens when you multiple $A$ times $x$ below? What happens when you multiple an identity matrix times any vector? Explain your result with the definition of matrix multiplication."
   ]
  },
  {
   "cell_type": "code",
   "execution_count": null,
   "id": "b0d349c4",
   "metadata": {},
   "outputs": [],
   "source": [
    "A = np.array([ [1,0,0],\n",
    "              [0,1,0],\n",
    "              [0,0,1]])\n",
    "x = np.array([-2,4,11])\n"
   ]
  },
  {
   "cell_type": "code",
   "execution_count": 10,
   "id": "c981c62a",
   "metadata": {},
   "outputs": [
    {
     "name": "stdout",
     "output_type": "stream",
     "text": [
      "Identity matrix I =\n",
      " [[1. 0. 0.]\n",
      " [0. 1. 0.]\n",
      " [0. 0. 1.]]\n",
      "x = [ 2 -1  4]\n",
      "I @ x = [ 2. -1.  4.]\n"
     ]
    }
   ],
   "source": [
    "# Q1.c(answer)\n",
    "\n",
    "I = np.eye(3)  # 3x3 identity matrix\n",
    "x = np.array([2, -1, 4])  # example vector (you can use any 3-element vector)\n",
    "\n",
    "result = I @ x\n",
    "\n",
    "print(\"Identity matrix I =\\n\", I)\n",
    "print(\"x =\", x)\n",
    "print(\"I @ x =\", result)"
   ]
  },
  {
   "cell_type": "markdown",
   "id": "55af8287",
   "metadata": {},
   "source": [
    "When you multiply a vector by the identity matrix, the result is the same vector you started with. That’s because the identity matrix has ones on the diagonal and zeros everywhere else, so each row picks out exactly one entry from the vector and leaves it unchanged."
   ]
  },
  {
   "cell_type": "markdown",
   "id": "57141925",
   "metadata": {},
   "source": [
    "d. What if every row and column sum to 1, but the 1's are no longer on the diagonal? Multiple $A$ times $X$ below and explain the result. Create another matrix whose rows and columns sum to 1, but is not an identity matrix, and show how it permutes the values of $x$. "
   ]
  },
  {
   "cell_type": "code",
   "execution_count": null,
   "id": "83a9ed11",
   "metadata": {},
   "outputs": [],
   "source": [
    "A = np.array([ [0,0,1],\n",
    "              [1,0,0],\n",
    "              [0,1,0]])\n",
    "x = np.array([-2,4,11])\n"
   ]
  },
  {
   "cell_type": "code",
   "execution_count": 11,
   "id": "2588bd35",
   "metadata": {},
   "outputs": [
    {
     "name": "stdout",
     "output_type": "stream",
     "text": [
      "x = [ 2 -1  4]\n",
      "Permutation matrix P =\n",
      " [[0 0 1]\n",
      " [1 0 0]\n",
      " [0 1 0]]\n",
      "P @ x = [ 4  2 -1]\n"
     ]
    }
   ],
   "source": [
    "# Q1.d(answer)\n",
    "\n",
    "P = np.array([\n",
    "    [0, 0, 1],\n",
    "    [1, 0, 0],\n",
    "    [0, 1, 0]\n",
    "])\n",
    "\n",
    "y = P @ x\n",
    "\n",
    "print(\"x =\", x)\n",
    "print(\"Permutation matrix P =\\n\", P)\n",
    "print(\"P @ x =\", y)"
   ]
  },
  {
   "cell_type": "markdown",
   "id": "04d37d63",
   "metadata": {},
   "source": [
    "A permutation matrix just reorders the entries of a vector. The rows each have a single 1 that “picks out” one entry of the vector and moves it into a new position. With the specific matrix above, the first row grabs the third entry, the second row grabs the first entry, and the third row grabs the second entry. So multiplying by this matrix turns a vector [x1, x2, x3] into [x3, x1, x2]. It shuffles values."
   ]
  },
  {
   "cell_type": "markdown",
   "id": "611c26c3",
   "metadata": {},
   "source": [
    "e. The next matrix $A$ could be a Markov transition matrix: Its columns sum to 1, and each entry $a_{ij}$ can be interpreted as the proportion of observations who moved from state $j$ to state $i$. Multiply $A$ by each of the vectors $e_1$, $e_2$, and $e_3$, and explain your results."
   ]
  },
  {
   "cell_type": "code",
   "execution_count": null,
   "id": "aff4fb97",
   "metadata": {},
   "outputs": [],
   "source": [
    "rng = np.random.default_rng(100)\n",
    "A = rng.random((3,3)) # Generate a random 3X3 matrix\n",
    "sums = np.sum(A,axis=0) # Column sums\n",
    "A = A/sums # Normalize the columns so they sum to 1\n",
    "print(A)"
   ]
  },
  {
   "cell_type": "code",
   "execution_count": 12,
   "id": "229af48d",
   "metadata": {},
   "outputs": [
    {
     "name": "stdout",
     "output_type": "stream",
     "text": [
      "A @ e1 =\n",
      " [1 4 7]\n",
      "sum = 12 \n",
      "\n",
      "A @ e2 =\n",
      " [2 5 8]\n",
      "sum = 15 \n",
      "\n",
      "A @ e3 =\n",
      " [3 6 9]\n",
      "sum = 18 \n",
      "\n"
     ]
    }
   ],
   "source": [
    "# Q1.e(answer)\n",
    "\n",
    "\n",
    "Ae1 = A @ e_1\n",
    "Ae2 = A @ e_2\n",
    "Ae3 = A @ e_3\n",
    "\n",
    "print(\"A @ e1 =\\n\", Ae1)\n",
    "print(\"sum =\", Ae1.sum(), \"\\n\")\n",
    "\n",
    "print(\"A @ e2 =\\n\", Ae2)\n",
    "print(\"sum =\", Ae2.sum(), \"\\n\")\n",
    "\n",
    "print(\"A @ e3 =\\n\", Ae3)\n",
    "print(\"sum =\", Ae3.sum(), \"\\n\")"
   ]
  },
  {
   "cell_type": "markdown",
   "id": "eac4a23f",
   "metadata": {},
   "source": [
    "Here, each column of A represents the probabilities of moving from one starting state to all possible next states. Multiplying A by e1 means “start with all probability in state 1,” and the result shows how that probability is distributed after one step. Then that vector is exactly the first column of A. Doing the same with e2 and e3 gives the second and third columns. Because A is set up so each column sums to 1, every result is a valid probability distribution over the next-state outcomes."
   ]
  },
  {
   "cell_type": "markdown",
   "id": "0647bfa7",
   "metadata": {},
   "source": [
    "f. For each of the vectors $e_1, e_2, e_3$, multiple $A$ times that vector 5 times. What answer do you get for each starting vector? Describe the behavior you observe."
   ]
  },
  {
   "cell_type": "code",
   "execution_count": 13,
   "id": "e64f7790",
   "metadata": {},
   "outputs": [
    {
     "name": "stdout",
     "output_type": "stream",
     "text": [
      "After 5 multiplications starting from e1:\n",
      " [121824 275886 429948] \n",
      "\n",
      "After 5 multiplications starting from e2:\n",
      " [149688 338985 528282] \n",
      "\n",
      "After 5 multiplications starting from e3:\n",
      " [177552 402084 626616]\n"
     ]
    }
   ],
   "source": [
    "# Q1.f(answer)\n",
    "\n",
    "v = e_1\n",
    "for i in range(5):\n",
    "    v = A @ v\n",
    "print(\"After 5 multiplications starting from e1:\\n\", v, \"\\n\")\n",
    "\n",
    "# Multiply A by e2 five times\n",
    "v = e_2\n",
    "for i in range(5):\n",
    "    v = A @ v\n",
    "print(\"After 5 multiplications starting from e2:\\n\", v, \"\\n\")\n",
    "\n",
    "# Multiply A by e3 five times\n",
    "v = e_3\n",
    "for i in range(5):\n",
    "    v = A @ v\n",
    "print(\"After 5 multiplications starting from e3:\\n\", v)\n"
   ]
  },
  {
   "cell_type": "markdown",
   "id": "35a737ae",
   "metadata": {},
   "source": [
    "After multiplying A by each starting vector five times, all three results are fairly similar even though they began from different states. The numbers for each case (starting from e1, e2, and e3) move toward the same general proportions. This shows that the transitions in A are gradually pushing the system toward a steady pattern where the probabilities don’t change much anymore. In other words, no matter which state we start from, the distribution settles into roughly the same balance after several steps, a sign that the process is approaching a steady-state distribution."
   ]
  },
  {
   "cell_type": "markdown",
   "id": "fa2c9a93",
   "metadata": {},
   "source": [
    "*2.* Let's consider a simple Markov transition matrix over two states:\n",
    "$$\n",
    "T = \\left[ \\begin{array}{cc} p_{1\\leftarrow 1} &  p_{1\\leftarrow 2} \\\\\n",
    "p_{2 \\leftarrow 1} & p_{2 \\leftarrow 2} \\end{array}\\right] \n",
    "$$\n",
    "The arrows help visualize the transition a bit: This is the same index notation as usual, $p_{ij}$, but writing it $p_{i \\leftarrow j}$ emphasizes that it's the proportion of times that state $j$ transitions to state $i$. Below, $T$ is given by\n",
    "$$\n",
    "T = \\left[ \\begin{array}{cc} .25 & .5 \\\\\n",
    ".75 & .5 \\end{array}\\right].\n",
    "$$\n",
    "\n",
    "- Start in state 1, at the initial condition $[1,0]$. Multiply that vector by $T$. Write out the result in terms of the formula and compute the result in a code chunk below. What is this object you're looking at, in terms of proportions and transitions?\n",
    "- Multiple by $T$ again. What do you get? This isn't a column of $T$. Explain in words what it is. (Hint: A forecast of what in what period?)\n",
    "- Keep multiplying the current vector of outcomes by $T$. When does it start to settle down without changing further?\n",
    "- Do the above analysis again, starting from the initial condition $[0,1]$. Do you get a different result?\n",
    "- The take-away is that, in the long run, these chains settle down into the long-run proportions, and the sensitivity on initial conditions vanishes. \n"
   ]
  },
  {
   "cell_type": "code",
   "execution_count": 65,
   "id": "4b6a775f",
   "metadata": {},
   "outputs": [],
   "source": [
    "T = np.array([[ 1/4, 1/2],\n",
    "                 [ 3/4, 1/2 ]])"
   ]
  },
  {
   "cell_type": "markdown",
   "id": "9fc8581c",
   "metadata": {},
   "source": [
    "TEst TEs"
   ]
  },
  {
   "cell_type": "markdown",
   "id": "921592e9",
   "metadata": {},
   "source": [
    "3. Weather data\n",
    "\n",
    "- Load the `cville_weather.csv` data. This includes data from Jan 4, 2024 to Feb 2, 2025. Are there any missing data issues?\n",
    "- Based on the precipitation variable, `PRCP`, make a new variable called `rain` that takes the value 1 if `PRCP`>0 and 0 otherwise.\n",
    "- Build a two-state Markov chain over the states 0 and 1 for the `rain` variable. \n",
    "- For your chain from c, how likely is it to rain if it was rainy yesterday? How likely is it to rain if it was clear yesterday?\n",
    "- Starting from a clear day, forecast the distribution. How quickly does it converge to a fixed result? What if you start from a rainy day?\n",
    "- Conditional on being rainy, plot a KDE of the `PRCP` variable.\n",
    "- Describe one way of making your model better for forecasting and simulation the weather.\n",
    "\n",
    "Congratulations, you now are a non-parametric meteorologist!"
   ]
  },
  {
   "cell_type": "markdown",
   "id": "b953c2c4",
   "metadata": {},
   "source": [
    "4. Taxicab trajectories: Using the pickled taxicab data, we want to complete the exercise from class.\n",
    "\n",
    "- For the taxicab trajectory data, determine your state space and clean your sequences of cab rides.\n",
    "- Compute the transition matrix for the taxicab data between neighborhoods in Manhattan. Plot it in a heat map. What are the most common routes?\n",
    "- Explain why taxicabs are most likely order 1, and not 2 or more.\n",
    "- Starting at Hell's Kitchen, create a sequence of forecasts of where the cab is likely to be in 2, 3, 5, and 10 trips\n",
    "- Starting at any neighborhood, iterate your forecast until it is no longer changing very much. Where do cabs spend most of their time working in Manhattan?"
   ]
  }
 ],
 "metadata": {
  "kernelspec": {
   "display_name": "ds6001",
   "language": "python",
   "name": "python3"
  },
  "language_info": {
   "codemirror_mode": {
    "name": "ipython",
    "version": 3
   },
   "file_extension": ".py",
   "mimetype": "text/x-python",
   "name": "python",
   "nbconvert_exporter": "python",
   "pygments_lexer": "ipython3",
   "version": "3.13.5"
  }
 },
 "nbformat": 4,
 "nbformat_minor": 5
}
